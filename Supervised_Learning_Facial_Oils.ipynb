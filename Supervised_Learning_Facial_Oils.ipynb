{
 "cells": [
  {
   "cell_type": "markdown",
   "metadata": {},
   "source": [
    "# Facial oils for acne-prone skin: Ingredients that differentiate high-rated products from low-rated products\n",
    "\n",
    "I have built a model that takes the ingredients of a facial oil as input and decides if the facial oil is a high-rated product or not. I built this model using data on ingredients from 79 different facial oils targeting acne-prone skin. Using this model, I also identified the key ingredients that determine if a facial oil has a high rating or low rating. The criteria for a high rating was 4.5 or above, the maximum being 5.\n",
    "\n",
    "## Table of Contents\n",
    "<ul>\n",
    "<li><a href=\"#intro\">Introduction</a></li>\n",
    "<li><a href=\"#wrangling\">Data Wrangling</a></li>\n",
    "<li><a href=\"#eda\">Exploratory Data Analysis</a></li>\n",
    "<li><a href=\"#conclusion\">Conclusion</a></li>\n",
    "</ul>"
   ]
  },
  {
   "cell_type": "markdown",
   "metadata": {},
   "source": [
    "<a id='intro'></a>\n",
    "## Introduction\n",
    "This dataset contains information about 79 facial oils for acne-prone skin. This data has been collected from influenster.com, including average consumer ratings and ingredients. (Source: https://www.influenster.com/)\n",
    "\n",
    "I want to answer the following questions about this dataset:\n",
    "<ul>\n",
    "<li><a href=\"#q1\"> 1. How do you decide if a new facial oil is a high-rated product?  </a></li>\n",
    "    I'm going to answer this question by building a model, using ingredients data collected for existing products.\n",
    "<li><a href=\"#q2\"> 2. Which ingredients help determine if the product is high-rated?</a></li> The feature importance attribute of the model gives us the key features (ingredients).\n",
    "</ul>\n",
    "\n",
    "In an effort to keep the playing field fair, I have only included facial oils that have been rated on influenster.com.\n",
    "The most surprising part of this case study was the realization that no clean data on the properties of facial oils exists and had to leverage my own skincare knowledge to filter the results. For example, when you query “facial oil, acne-prone skin,” even the most reliable search engines are unable to provide a clean list of facial oils for acne-prone skin. \n",
    "\n",
    "When ingredients were not provided on influenster.com, I used the direct manufacturer site to access a list of ingredients.\n",
    "\n",
    "It took a lot of effort to generate clean data on ingredients. In order to make the list of ingredients comma separated, I had to first clean the data. I also had to standardize ingredient names for different products to common ingredient names, based on my skincare ingredients and chemistry knowledge.\n",
    "\n",
    "In the following sections, you will notice that I deployed AdaBoostClassifier to accurately model facial oil ratings using data collected from Influenster. I had tried three models - RandomForestClassifier, AdaBoostClassifier, and Support Vector Machines, and AdaBoostClassifier gave me the best results. My goal was to construct a model that accurately predicts whether a facial oil could have a rating of more than 4.5 out of 5.0. Understanding a new facial oil's rating can help an individual decide if he or she should purchase it. In other words, it can be difficult to determine a new facial oil's genuine rating, as reviews from the general public are often qualitative and based on personal opinion and/or preferences. To that end, I used other publically available features of the facial oil, like ingredient composition, to provide a more accurate rating.\n",
    "\n",
    "I trained the model on training data and verified how the model performs in testing data. The AdaBoostClassifier model performed better than Naive Classification (accepting all products to have a rating of 4.5 or higher) on the test data and the training data. I concluded that the AdaBoostClassifier model performed better because it displayed a higher accuracy and F-score. After having examined the key features used by this classifier model, I am confident that the output makes sense and that the model is working properly - I can say this based on my expertise in skincare."
   ]
  },
  {
   "cell_type": "markdown",
   "metadata": {},
   "source": [
    "<a id='wrangling'></a>\n",
    "## Data Wrangling\n",
    "\n",
    "In this section of the report, I load in the data, check for cleanliness, and then trim and clean the dataset for analysis."
   ]
  },
  {
   "cell_type": "markdown",
   "metadata": {},
   "source": [
    "Let's run the code cell below to load necessary Python libraries and data:"
   ]
  },
  {
   "cell_type": "code",
   "execution_count": 29,
   "metadata": {},
   "outputs": [
    {
     "name": "stdout",
     "output_type": "stream",
     "text": [
      "(79, 5)\n"
     ]
    }
   ],
   "source": [
    "# Import libraries necessary for this project\n",
    "import numpy as np\n",
    "import pandas as pd\n",
    "from time import time\n",
    "from IPython.display import display # Allows the use of display() for DataFrames\n",
    "\n",
    "# Import supplementary visualization code visuals.py\n",
    "import visuals_analyze_study as vs\n",
    "\n",
    "# Pretty display for notebooks\n",
    "%matplotlib inline\n",
    "\n",
    "# Load the Facial_Oils_for_Acne_Prone_Skin dataset and print shape \n",
    "df = pd.read_csv('facial_oils_data.csv')\n",
    "print(df.shape)"
   ]
  },
  {
   "cell_type": "markdown",
   "metadata": {},
   "source": [
    "### General Properties"
   ]
  },
  {
   "cell_type": "code",
   "execution_count": 32,
   "metadata": {
    "scrolled": true
   },
   "outputs": [
    {
     "data": {
      "text/html": [
       "<div>\n",
       "<style scoped>\n",
       "    .dataframe tbody tr th:only-of-type {\n",
       "        vertical-align: middle;\n",
       "    }\n",
       "\n",
       "    .dataframe tbody tr th {\n",
       "        vertical-align: top;\n",
       "    }\n",
       "\n",
       "    .dataframe thead th {\n",
       "        text-align: right;\n",
       "    }\n",
       "</style>\n",
       "<table border=\"1\" class=\"dataframe\">\n",
       "  <thead>\n",
       "    <tr style=\"text-align: right;\">\n",
       "      <th></th>\n",
       "      <th>Facial Oils for Acne Prone Skin</th>\n",
       "      <th>Price ($)</th>\n",
       "      <th>Rating</th>\n",
       "      <th>#Reviews</th>\n",
       "      <th>Ingredients</th>\n",
       "    </tr>\n",
       "  </thead>\n",
       "  <tbody>\n",
       "    <tr>\n",
       "      <th>0</th>\n",
       "      <td>Sunday Riley UFO Ultra-Clarifying Face Oil</td>\n",
       "      <td>40.00</td>\n",
       "      <td>4.3</td>\n",
       "      <td>3767</td>\n",
       "      <td>Silybum Marianum (Milk Thistle) Seed Oil, Nige...</td>\n",
       "    </tr>\n",
       "    <tr>\n",
       "      <th>1</th>\n",
       "      <td>Trilogy Certified Organic Rosehip Oil</td>\n",
       "      <td>29.00</td>\n",
       "      <td>4.6</td>\n",
       "      <td>109</td>\n",
       "      <td>Rosa Canina (Rosehip) Seed Oil</td>\n",
       "    </tr>\n",
       "    <tr>\n",
       "      <th>2</th>\n",
       "      <td>Herbivore Botanicals Lapis Facial Oil</td>\n",
       "      <td>72.00</td>\n",
       "      <td>4.4</td>\n",
       "      <td>947</td>\n",
       "      <td>Squalane, Simmondsia Chinensis (Jojoba) Seed O...</td>\n",
       "    </tr>\n",
       "    <tr>\n",
       "      <th>3</th>\n",
       "      <td>Burt's Bees Complete Nourishment Facial Oil</td>\n",
       "      <td>19.99</td>\n",
       "      <td>4.2</td>\n",
       "      <td>177</td>\n",
       "      <td>Rosa Canina Seed Extract (Rosehip Seed Extract...</td>\n",
       "    </tr>\n",
       "    <tr>\n",
       "      <th>4</th>\n",
       "      <td>Skinowl Maqui Berry Beauty Drops PM</td>\n",
       "      <td>85.00</td>\n",
       "      <td>5.0</td>\n",
       "      <td>2</td>\n",
       "      <td>Raw-Organic-cold-pressed African Adansonia dig...</td>\n",
       "    </tr>\n",
       "  </tbody>\n",
       "</table>\n",
       "</div>"
      ],
      "text/plain": [
       "                Facial Oils for Acne Prone Skin  Price ($)  Rating  #Reviews  \\\n",
       "0    Sunday Riley UFO Ultra-Clarifying Face Oil      40.00     4.3      3767   \n",
       "1        Trilogy Certified Organic Rosehip Oil       29.00     4.6       109   \n",
       "2        Herbivore Botanicals Lapis Facial Oil       72.00     4.4       947   \n",
       "3  Burt's Bees Complete Nourishment Facial Oil       19.99     4.2       177   \n",
       "4           Skinowl Maqui Berry Beauty Drops PM      85.00     5.0         2   \n",
       "\n",
       "                                         Ingredients  \n",
       "0  Silybum Marianum (Milk Thistle) Seed Oil, Nige...  \n",
       "1                     Rosa Canina (Rosehip) Seed Oil  \n",
       "2  Squalane, Simmondsia Chinensis (Jojoba) Seed O...  \n",
       "3  Rosa Canina Seed Extract (Rosehip Seed Extract...  \n",
       "4  Raw-Organic-cold-pressed African Adansonia dig...  "
      ]
     },
     "metadata": {},
     "output_type": "display_data"
    }
   ],
   "source": [
    "# Display the first five lines.\n",
    "display(df.head(n=5))"
   ]
  },
  {
   "cell_type": "code",
   "execution_count": 33,
   "metadata": {
    "scrolled": true
   },
   "outputs": [
    {
     "name": "stdout",
     "output_type": "stream",
     "text": [
      "<class 'pandas.core.frame.DataFrame'>\n",
      "RangeIndex: 79 entries, 0 to 78\n",
      "Data columns (total 5 columns):\n",
      "Facial Oils for Acne Prone Skin    79 non-null object\n",
      "Price ($)                          79 non-null float64\n",
      "Rating                             79 non-null float64\n",
      "#Reviews                           79 non-null int64\n",
      "Ingredients                        79 non-null object\n",
      "dtypes: float64(2), int64(1), object(2)\n",
      "memory usage: 3.2+ KB\n"
     ]
    }
   ],
   "source": [
    "# Performing operations to inspect data types and looking for instances of missing or possibly errant data.\n",
    "df.info()"
   ]
  },
  {
   "cell_type": "markdown",
   "metadata": {},
   "source": [
    "The data types for columns look practical and consistent."
   ]
  },
  {
   "cell_type": "markdown",
   "metadata": {},
   "source": [
    "###  Map ingredients to the same name\n",
    "Ingredients for facial oils do not follow a standardized naming convention. Hence, many ingredients need to be mapped to common names. For example, \n",
    "1. Trilogy Certified Organic Rosehip Oil has ingredient \"Rosa Canina (Rosehip) Seed Oil\" -> I mapped \"Rosa Canina (Rosehip) Seed Oil\" to \"Rosehip Oil\". \n",
    "2. bareMinerals Mineralixirs 5-Oil Blend has ingredient \"rosehip seed oil\" -> I mapped \"rosehip seed oil\" to \"Rosehip Oil\".\n",
    "\n",
    "\n",
    "In this way, I have generated a list of standardized names for ingredients. This has helped me reduce the 1037 different ingredient names to 356 ingredient names."
   ]
  },
  {
   "cell_type": "code",
   "execution_count": 36,
   "metadata": {},
   "outputs": [
    {
     "data": {
      "text/html": [
       "<div>\n",
       "<style scoped>\n",
       "    .dataframe tbody tr th:only-of-type {\n",
       "        vertical-align: middle;\n",
       "    }\n",
       "\n",
       "    .dataframe tbody tr th {\n",
       "        vertical-align: top;\n",
       "    }\n",
       "\n",
       "    .dataframe thead th {\n",
       "        text-align: right;\n",
       "    }\n",
       "</style>\n",
       "<table border=\"1\" class=\"dataframe\">\n",
       "  <thead>\n",
       "    <tr style=\"text-align: right;\">\n",
       "      <th></th>\n",
       "      <th>Unnamed: 0</th>\n",
       "      <th>Actual_Ingredient</th>\n",
       "      <th>Map_Ingredient</th>\n",
       "    </tr>\n",
       "  </thead>\n",
       "  <tbody>\n",
       "    <tr>\n",
       "      <th>0</th>\n",
       "      <td>0</td>\n",
       "      <td>*Golden Simmondsia Chinensis (Jojoba) Seed Oil</td>\n",
       "      <td>Jojoba Oil</td>\n",
       "    </tr>\n",
       "    <tr>\n",
       "      <th>1</th>\n",
       "      <td>1</td>\n",
       "      <td>100% Pure olive derived squalane.</td>\n",
       "      <td>Squalane</td>\n",
       "    </tr>\n",
       "    <tr>\n",
       "      <th>2</th>\n",
       "      <td>2</td>\n",
       "      <td>100% pure-unrefined-organic-cold-pressed Jojob...</td>\n",
       "      <td>Jojoba Oil</td>\n",
       "    </tr>\n",
       "    <tr>\n",
       "      <th>3</th>\n",
       "      <td>3</td>\n",
       "      <td>Anthyllis Vulneraria Extract</td>\n",
       "      <td>Anthyllis Vulneraria</td>\n",
       "    </tr>\n",
       "    <tr>\n",
       "      <th>4</th>\n",
       "      <td>4</td>\n",
       "      <td>Aqua</td>\n",
       "      <td>Distilled Water</td>\n",
       "    </tr>\n",
       "  </tbody>\n",
       "</table>\n",
       "</div>"
      ],
      "text/plain": [
       "   Unnamed: 0                                  Actual_Ingredient  \\\n",
       "0           0     *Golden Simmondsia Chinensis (Jojoba) Seed Oil   \n",
       "1           1                  100% Pure olive derived squalane.   \n",
       "2           2  100% pure-unrefined-organic-cold-pressed Jojob...   \n",
       "3           3                       Anthyllis Vulneraria Extract   \n",
       "4           4                                               Aqua   \n",
       "\n",
       "         Map_Ingredient  \n",
       "0            Jojoba Oil  \n",
       "1              Squalane  \n",
       "2            Jojoba Oil  \n",
       "3  Anthyllis Vulneraria  \n",
       "4       Distilled Water  "
      ]
     },
     "execution_count": 36,
     "metadata": {},
     "output_type": "execute_result"
    }
   ],
   "source": [
    "# Loading the ingredient map. This file contains the actual ingredient name in each product AND the common name to which it was mapped.\n",
    "df_ingredient_map = pd.read_csv('facial_oils_ingredients_map.csv')\n",
    "# view data\n",
    "df_ingredient_map.head()"
   ]
  },
  {
   "cell_type": "code",
   "execution_count": 38,
   "metadata": {},
   "outputs": [],
   "source": [
    "# Create dictionary ingredient map, in which key is the actual ingredient name in each product AND the value is the common name to which it was mapped. \n",
    "ingredient_map = dict(zip(df_ingredient_map.Actual_Ingredient, df_ingredient_map.Map_Ingredient))"
   ]
  },
  {
   "cell_type": "markdown",
   "metadata": {},
   "source": [
    "ingredient_map has values of this type:\n",
    "\n",
    " '100% Pure olive derived squalane.': 'Squalane',\n",
    " \n",
    " '100% pure-unrefined-organic-cold-pressed Jojoba Oil -\\xa0Simmondsia Chinensis': 'Jojoba Seed Oil',\n",
    " \n",
    " 'Anthyllis Vulneraria Extract': 'Anthyllis Vulneraria',\n",
    " \n",
    " 'Aqua': 'Distilled Water',\n",
    " \n",
    " 'Carthamus tinctorius (Safflower) Seed Oil': 'Safflower Seed Oil',"
   ]
  },
  {
   "cell_type": "code",
   "execution_count": 41,
   "metadata": {},
   "outputs": [],
   "source": [
    "# Generate the clean list of ingredients using the mapped common names.\n",
    "df = vs.generate_ingredients_clean(df, ingredient_map)"
   ]
  },
  {
   "cell_type": "code",
   "execution_count": 42,
   "metadata": {},
   "outputs": [
    {
     "data": {
      "text/html": [
       "<div>\n",
       "<style scoped>\n",
       "    .dataframe tbody tr th:only-of-type {\n",
       "        vertical-align: middle;\n",
       "    }\n",
       "\n",
       "    .dataframe tbody tr th {\n",
       "        vertical-align: top;\n",
       "    }\n",
       "\n",
       "    .dataframe thead th {\n",
       "        text-align: right;\n",
       "    }\n",
       "</style>\n",
       "<table border=\"1\" class=\"dataframe\">\n",
       "  <thead>\n",
       "    <tr style=\"text-align: right;\">\n",
       "      <th></th>\n",
       "      <th>Facial Oils for Acne Prone Skin</th>\n",
       "      <th>Price ($)</th>\n",
       "      <th>Rating</th>\n",
       "      <th>#Reviews</th>\n",
       "      <th>Ingredients</th>\n",
       "      <th>Ingredients_Clean</th>\n",
       "    </tr>\n",
       "  </thead>\n",
       "  <tbody>\n",
       "    <tr>\n",
       "      <th>0</th>\n",
       "      <td>Sunday Riley UFO Ultra-Clarifying Face Oil</td>\n",
       "      <td>40.00</td>\n",
       "      <td>4.3</td>\n",
       "      <td>3767</td>\n",
       "      <td>Silybum Marianum (Milk Thistle) Seed Oil, Nige...</td>\n",
       "      <td>Milk Thistle Seed Oil,Black Cumin Seed Oil,Cuc...</td>\n",
       "    </tr>\n",
       "    <tr>\n",
       "      <th>1</th>\n",
       "      <td>Trilogy Certified Organic Rosehip Oil</td>\n",
       "      <td>29.00</td>\n",
       "      <td>4.6</td>\n",
       "      <td>109</td>\n",
       "      <td>Rosa Canina (Rosehip) Seed Oil</td>\n",
       "      <td>Rosehip Oil</td>\n",
       "    </tr>\n",
       "    <tr>\n",
       "      <th>2</th>\n",
       "      <td>Herbivore Botanicals Lapis Facial Oil</td>\n",
       "      <td>72.00</td>\n",
       "      <td>4.4</td>\n",
       "      <td>947</td>\n",
       "      <td>Squalane, Simmondsia Chinensis (Jojoba) Seed O...</td>\n",
       "      <td>Squalane,Jojoba Oil,Fractionated Coconut Oil,K...</td>\n",
       "    </tr>\n",
       "    <tr>\n",
       "      <th>3</th>\n",
       "      <td>Burt's Bees Complete Nourishment Facial Oil</td>\n",
       "      <td>19.99</td>\n",
       "      <td>4.2</td>\n",
       "      <td>177</td>\n",
       "      <td>Rosa Canina Seed Extract (Rosehip Seed Extract...</td>\n",
       "      <td>Rosehip Oil,Jojoba Oil,Natural Fragrance,Eveni...</td>\n",
       "    </tr>\n",
       "    <tr>\n",
       "      <th>4</th>\n",
       "      <td>Skinowl Maqui Berry Beauty Drops PM</td>\n",
       "      <td>85.00</td>\n",
       "      <td>5.0</td>\n",
       "      <td>2</td>\n",
       "      <td>Raw-Organic-cold-pressed African Adansonia dig...</td>\n",
       "      <td>Baobab Oil,Maqui Berry Oil,Vanilla Extract,Tan...</td>\n",
       "    </tr>\n",
       "  </tbody>\n",
       "</table>\n",
       "</div>"
      ],
      "text/plain": [
       "                Facial Oils for Acne Prone Skin  Price ($)  Rating  #Reviews  \\\n",
       "0    Sunday Riley UFO Ultra-Clarifying Face Oil      40.00     4.3      3767   \n",
       "1        Trilogy Certified Organic Rosehip Oil       29.00     4.6       109   \n",
       "2        Herbivore Botanicals Lapis Facial Oil       72.00     4.4       947   \n",
       "3  Burt's Bees Complete Nourishment Facial Oil       19.99     4.2       177   \n",
       "4           Skinowl Maqui Berry Beauty Drops PM      85.00     5.0         2   \n",
       "\n",
       "                                         Ingredients  \\\n",
       "0  Silybum Marianum (Milk Thistle) Seed Oil, Nige...   \n",
       "1                     Rosa Canina (Rosehip) Seed Oil   \n",
       "2  Squalane, Simmondsia Chinensis (Jojoba) Seed O...   \n",
       "3  Rosa Canina Seed Extract (Rosehip Seed Extract...   \n",
       "4  Raw-Organic-cold-pressed African Adansonia dig...   \n",
       "\n",
       "                                   Ingredients_Clean  \n",
       "0  Milk Thistle Seed Oil,Black Cumin Seed Oil,Cuc...  \n",
       "1                                        Rosehip Oil  \n",
       "2  Squalane,Jojoba Oil,Fractionated Coconut Oil,K...  \n",
       "3  Rosehip Oil,Jojoba Oil,Natural Fragrance,Eveni...  \n",
       "4  Baobab Oil,Maqui Berry Oil,Vanilla Extract,Tan...  "
      ]
     },
     "execution_count": 42,
     "metadata": {},
     "output_type": "execute_result"
    }
   ],
   "source": [
    "df.head()"
   ]
  },
  {
   "cell_type": "markdown",
   "metadata": {},
   "source": [
    "### Drop Rows with Missing Values"
   ]
  },
  {
   "cell_type": "code",
   "execution_count": 43,
   "metadata": {},
   "outputs": [],
   "source": [
    "# dropping rows with any null values in dataset\n",
    "df.dropna(inplace=True)"
   ]
  },
  {
   "cell_type": "code",
   "execution_count": 44,
   "metadata": {},
   "outputs": [
    {
     "data": {
      "text/plain": [
       "False"
      ]
     },
     "execution_count": 44,
     "metadata": {},
     "output_type": "execute_result"
    }
   ],
   "source": [
    "# checking if any of columns have null values - should print False\n",
    "df.isnull().sum().any()"
   ]
  },
  {
   "cell_type": "markdown",
   "metadata": {},
   "source": [
    "### Dedupe Data"
   ]
  },
  {
   "cell_type": "code",
   "execution_count": 45,
   "metadata": {},
   "outputs": [
    {
     "name": "stdout",
     "output_type": "stream",
     "text": [
      "0\n"
     ]
    }
   ],
   "source": [
    "# printing number of duplicates in dataset\n",
    "print(df.duplicated().sum())"
   ]
  },
  {
   "cell_type": "code",
   "execution_count": 46,
   "metadata": {},
   "outputs": [
    {
     "name": "stdout",
     "output_type": "stream",
     "text": [
      "0\n"
     ]
    }
   ],
   "source": [
    "# printing number of duplicates again to confirm dedupe - should be 0\n",
    "print(df.duplicated().sum())"
   ]
  },
  {
   "cell_type": "markdown",
   "metadata": {},
   "source": [
    "<a id='eda'></a>\n",
    "## Exploratory Data Analysis\n",
    "\n",
    "The trimming and cleaning the data has been done. Now, I will explore and address the research questions that I posed in the Introduction. "
   ]
  },
  {
   "cell_type": "code",
   "execution_count": 47,
   "metadata": {},
   "outputs": [
    {
     "data": {
      "text/html": [
       "<div>\n",
       "<style scoped>\n",
       "    .dataframe tbody tr th:only-of-type {\n",
       "        vertical-align: middle;\n",
       "    }\n",
       "\n",
       "    .dataframe tbody tr th {\n",
       "        vertical-align: top;\n",
       "    }\n",
       "\n",
       "    .dataframe thead th {\n",
       "        text-align: right;\n",
       "    }\n",
       "</style>\n",
       "<table border=\"1\" class=\"dataframe\">\n",
       "  <thead>\n",
       "    <tr style=\"text-align: right;\">\n",
       "      <th></th>\n",
       "      <th>Facial Oils for Acne Prone Skin</th>\n",
       "      <th>Price ($)</th>\n",
       "      <th>Rating</th>\n",
       "      <th>#Reviews</th>\n",
       "      <th>Ingredients</th>\n",
       "      <th>Ingredients_Clean</th>\n",
       "    </tr>\n",
       "  </thead>\n",
       "  <tbody>\n",
       "    <tr>\n",
       "      <th>0</th>\n",
       "      <td>Sunday Riley UFO Ultra-Clarifying Face Oil</td>\n",
       "      <td>40.00</td>\n",
       "      <td>4.3</td>\n",
       "      <td>3767</td>\n",
       "      <td>Silybum Marianum (Milk Thistle) Seed Oil, Nige...</td>\n",
       "      <td>Milk Thistle Seed Oil,Black Cumin Seed Oil,Cuc...</td>\n",
       "    </tr>\n",
       "    <tr>\n",
       "      <th>1</th>\n",
       "      <td>Trilogy Certified Organic Rosehip Oil</td>\n",
       "      <td>29.00</td>\n",
       "      <td>4.6</td>\n",
       "      <td>109</td>\n",
       "      <td>Rosa Canina (Rosehip) Seed Oil</td>\n",
       "      <td>Rosehip Oil</td>\n",
       "    </tr>\n",
       "    <tr>\n",
       "      <th>2</th>\n",
       "      <td>Herbivore Botanicals Lapis Facial Oil</td>\n",
       "      <td>72.00</td>\n",
       "      <td>4.4</td>\n",
       "      <td>947</td>\n",
       "      <td>Squalane, Simmondsia Chinensis (Jojoba) Seed O...</td>\n",
       "      <td>Squalane,Jojoba Oil,Fractionated Coconut Oil,K...</td>\n",
       "    </tr>\n",
       "    <tr>\n",
       "      <th>3</th>\n",
       "      <td>Burt's Bees Complete Nourishment Facial Oil</td>\n",
       "      <td>19.99</td>\n",
       "      <td>4.2</td>\n",
       "      <td>177</td>\n",
       "      <td>Rosa Canina Seed Extract (Rosehip Seed Extract...</td>\n",
       "      <td>Rosehip Oil,Jojoba Oil,Natural Fragrance,Eveni...</td>\n",
       "    </tr>\n",
       "    <tr>\n",
       "      <th>4</th>\n",
       "      <td>Skinowl Maqui Berry Beauty Drops PM</td>\n",
       "      <td>85.00</td>\n",
       "      <td>5.0</td>\n",
       "      <td>2</td>\n",
       "      <td>Raw-Organic-cold-pressed African Adansonia dig...</td>\n",
       "      <td>Baobab Oil,Maqui Berry Oil,Vanilla Extract,Tan...</td>\n",
       "    </tr>\n",
       "  </tbody>\n",
       "</table>\n",
       "</div>"
      ],
      "text/plain": [
       "                Facial Oils for Acne Prone Skin  Price ($)  Rating  #Reviews  \\\n",
       "0    Sunday Riley UFO Ultra-Clarifying Face Oil      40.00     4.3      3767   \n",
       "1        Trilogy Certified Organic Rosehip Oil       29.00     4.6       109   \n",
       "2        Herbivore Botanicals Lapis Facial Oil       72.00     4.4       947   \n",
       "3  Burt's Bees Complete Nourishment Facial Oil       19.99     4.2       177   \n",
       "4           Skinowl Maqui Berry Beauty Drops PM      85.00     5.0         2   \n",
       "\n",
       "                                         Ingredients  \\\n",
       "0  Silybum Marianum (Milk Thistle) Seed Oil, Nige...   \n",
       "1                     Rosa Canina (Rosehip) Seed Oil   \n",
       "2  Squalane, Simmondsia Chinensis (Jojoba) Seed O...   \n",
       "3  Rosa Canina Seed Extract (Rosehip Seed Extract...   \n",
       "4  Raw-Organic-cold-pressed African Adansonia dig...   \n",
       "\n",
       "                                   Ingredients_Clean  \n",
       "0  Milk Thistle Seed Oil,Black Cumin Seed Oil,Cuc...  \n",
       "1                                        Rosehip Oil  \n",
       "2  Squalane,Jojoba Oil,Fractionated Coconut Oil,K...  \n",
       "3  Rosehip Oil,Jojoba Oil,Natural Fragrance,Eveni...  \n",
       "4  Baobab Oil,Maqui Berry Oil,Vanilla Extract,Tan...  "
      ]
     },
     "execution_count": 47,
     "metadata": {},
     "output_type": "execute_result"
    }
   ],
   "source": [
    "# Rating threshold to decide high- vs. low-rated facial oils\n",
    "rating_threshold = 4.5\n",
    "df.head()"
   ]
  },
  {
   "cell_type": "markdown",
   "metadata": {},
   "source": [
    "### Investigating the Questions"
   ]
  },
  {
   "cell_type": "markdown",
   "metadata": {},
   "source": [
    "<a id='q1'></a>\n",
    "### 1. How do you decide if a new facial oil is a high-rated product?\n",
    "I answered this question by building a model, using ingredients data collected for existing products."
   ]
  },
  {
   "cell_type": "markdown",
   "metadata": {},
   "source": [
    "### Preparing the Data\n",
    "Before data can be used as input for machine learning algorithms, it often must be cleaned, formatted, and restructured — this is typically known as **preprocessing**. Fortunately, for this dataset, there are no invalid or missing entries we must deal with. However, there are some qualities about certain features that must be adjusted. This preprocessing can help tremendously with the outcome and predictive power of nearly all learning algorithms.\n",
    "\n",
    "In the Exploratory Data Analysis table above, you can see there are several ingredients for each facial oil and these are non-numeric. Typically, learning algorithms expect input to be numeric, which requires that non-numeric features (ingredients, in this case) be converted. To provide numeric inputs, you will see I created a column for each separate ingredient and assigned the value \"1\" for a facial oil that contains that ingredient and the value \"0\" for a facial oil that does not contain that ingredient. For example, if facial_oil_1 contains ingredient A, B and D but not C, facial_oil_1 will have feature values:\n",
    "\n",
    "|Facial Oil Name|A|B|C|D|\n",
    "|:---|:---|:---|:---|:---|\n",
    "|facial_oil_1|1|1|0|1|"
   ]
  },
  {
   "cell_type": "code",
   "execution_count": 48,
   "metadata": {},
   "outputs": [],
   "source": [
    "# create a column for each separate ingredient and assign the value \"1\" for a facial oil that contains that ingredient and the value \"0\" for a facial oil that does not contain that ingredient.\n",
    "data = vs.generate_ingredient_columns(df) "
   ]
  },
  {
   "cell_type": "code",
   "execution_count": 49,
   "metadata": {},
   "outputs": [
    {
     "data": {
      "text/plain": [
       "Index(['Facial Oils for Acne Prone Skin', 'Price ($)', 'Rating', '#Reviews',\n",
       "       'Ingredients', 'Ingredients_Clean', 'Milk Thistle Seed Oil',\n",
       "       'Black Cumin Seed Oil', 'Cucumber Oil', 'Diisopropyl Sebacate',\n",
       "       ...\n",
       "       'Bitter Orange Flower Extract', 'Maracuja Oil',\n",
       "       'Hamamelis Virginiana Leaf/Bark/Twig Extract', 'Dicaprylyl Ether',\n",
       "       'Dicaprylyl Carbonate', 'Coriander Seed Oil', 'Ginger Root Oil',\n",
       "       'Acerola Fruit Extract', 'Cetearyl Isononanoate', 'Isostearyl Alcohol'],\n",
       "      dtype='object', length=362)"
      ]
     },
     "execution_count": 49,
     "metadata": {},
     "output_type": "execute_result"
    }
   ],
   "source": [
    "data.columns"
   ]
  },
  {
   "cell_type": "code",
   "execution_count": 50,
   "metadata": {},
   "outputs": [
    {
     "data": {
      "text/html": [
       "<div>\n",
       "<style scoped>\n",
       "    .dataframe tbody tr th:only-of-type {\n",
       "        vertical-align: middle;\n",
       "    }\n",
       "\n",
       "    .dataframe tbody tr th {\n",
       "        vertical-align: top;\n",
       "    }\n",
       "\n",
       "    .dataframe thead th {\n",
       "        text-align: right;\n",
       "    }\n",
       "</style>\n",
       "<table border=\"1\" class=\"dataframe\">\n",
       "  <thead>\n",
       "    <tr style=\"text-align: right;\">\n",
       "      <th></th>\n",
       "      <th>Facial Oils for Acne Prone Skin</th>\n",
       "      <th>Price ($)</th>\n",
       "      <th>Rating</th>\n",
       "      <th>#Reviews</th>\n",
       "      <th>Ingredients</th>\n",
       "      <th>Ingredients_Clean</th>\n",
       "      <th>Milk Thistle Seed Oil</th>\n",
       "      <th>Black Cumin Seed Oil</th>\n",
       "      <th>Cucumber Oil</th>\n",
       "      <th>Diisopropyl Sebacate</th>\n",
       "      <th>...</th>\n",
       "      <th>Bitter Orange Flower Extract</th>\n",
       "      <th>Maracuja Oil</th>\n",
       "      <th>Hamamelis Virginiana Leaf/Bark/Twig Extract</th>\n",
       "      <th>Dicaprylyl Ether</th>\n",
       "      <th>Dicaprylyl Carbonate</th>\n",
       "      <th>Coriander Seed Oil</th>\n",
       "      <th>Ginger Root Oil</th>\n",
       "      <th>Acerola Fruit Extract</th>\n",
       "      <th>Cetearyl Isononanoate</th>\n",
       "      <th>Isostearyl Alcohol</th>\n",
       "    </tr>\n",
       "  </thead>\n",
       "  <tbody>\n",
       "    <tr>\n",
       "      <th>0</th>\n",
       "      <td>Sunday Riley UFO Ultra-Clarifying Face Oil</td>\n",
       "      <td>40.00</td>\n",
       "      <td>4.3</td>\n",
       "      <td>3767</td>\n",
       "      <td>Silybum Marianum (Milk Thistle) Seed Oil, Nige...</td>\n",
       "      <td>Milk Thistle Seed Oil,Black Cumin Seed Oil,Cuc...</td>\n",
       "      <td>1</td>\n",
       "      <td>1</td>\n",
       "      <td>1</td>\n",
       "      <td>1</td>\n",
       "      <td>...</td>\n",
       "      <td>0</td>\n",
       "      <td>0</td>\n",
       "      <td>0</td>\n",
       "      <td>0</td>\n",
       "      <td>0</td>\n",
       "      <td>0</td>\n",
       "      <td>0</td>\n",
       "      <td>0</td>\n",
       "      <td>0</td>\n",
       "      <td>0</td>\n",
       "    </tr>\n",
       "    <tr>\n",
       "      <th>1</th>\n",
       "      <td>Trilogy Certified Organic Rosehip Oil</td>\n",
       "      <td>29.00</td>\n",
       "      <td>4.6</td>\n",
       "      <td>109</td>\n",
       "      <td>Rosa Canina (Rosehip) Seed Oil</td>\n",
       "      <td>Rosehip Oil</td>\n",
       "      <td>0</td>\n",
       "      <td>0</td>\n",
       "      <td>0</td>\n",
       "      <td>0</td>\n",
       "      <td>...</td>\n",
       "      <td>0</td>\n",
       "      <td>0</td>\n",
       "      <td>0</td>\n",
       "      <td>0</td>\n",
       "      <td>0</td>\n",
       "      <td>0</td>\n",
       "      <td>0</td>\n",
       "      <td>0</td>\n",
       "      <td>0</td>\n",
       "      <td>0</td>\n",
       "    </tr>\n",
       "    <tr>\n",
       "      <th>2</th>\n",
       "      <td>Herbivore Botanicals Lapis Facial Oil</td>\n",
       "      <td>72.00</td>\n",
       "      <td>4.4</td>\n",
       "      <td>947</td>\n",
       "      <td>Squalane, Simmondsia Chinensis (Jojoba) Seed O...</td>\n",
       "      <td>Squalane,Jojoba Oil,Fractionated Coconut Oil,K...</td>\n",
       "      <td>0</td>\n",
       "      <td>0</td>\n",
       "      <td>0</td>\n",
       "      <td>0</td>\n",
       "      <td>...</td>\n",
       "      <td>0</td>\n",
       "      <td>0</td>\n",
       "      <td>0</td>\n",
       "      <td>0</td>\n",
       "      <td>0</td>\n",
       "      <td>0</td>\n",
       "      <td>0</td>\n",
       "      <td>0</td>\n",
       "      <td>0</td>\n",
       "      <td>0</td>\n",
       "    </tr>\n",
       "    <tr>\n",
       "      <th>3</th>\n",
       "      <td>Burt's Bees Complete Nourishment Facial Oil</td>\n",
       "      <td>19.99</td>\n",
       "      <td>4.2</td>\n",
       "      <td>177</td>\n",
       "      <td>Rosa Canina Seed Extract (Rosehip Seed Extract...</td>\n",
       "      <td>Rosehip Oil,Jojoba Oil,Natural Fragrance,Eveni...</td>\n",
       "      <td>0</td>\n",
       "      <td>0</td>\n",
       "      <td>0</td>\n",
       "      <td>0</td>\n",
       "      <td>...</td>\n",
       "      <td>0</td>\n",
       "      <td>0</td>\n",
       "      <td>0</td>\n",
       "      <td>0</td>\n",
       "      <td>0</td>\n",
       "      <td>0</td>\n",
       "      <td>0</td>\n",
       "      <td>0</td>\n",
       "      <td>0</td>\n",
       "      <td>0</td>\n",
       "    </tr>\n",
       "    <tr>\n",
       "      <th>4</th>\n",
       "      <td>Skinowl Maqui Berry Beauty Drops PM</td>\n",
       "      <td>85.00</td>\n",
       "      <td>5.0</td>\n",
       "      <td>2</td>\n",
       "      <td>Raw-Organic-cold-pressed African Adansonia dig...</td>\n",
       "      <td>Baobab Oil,Maqui Berry Oil,Vanilla Extract,Tan...</td>\n",
       "      <td>0</td>\n",
       "      <td>0</td>\n",
       "      <td>0</td>\n",
       "      <td>0</td>\n",
       "      <td>...</td>\n",
       "      <td>0</td>\n",
       "      <td>0</td>\n",
       "      <td>0</td>\n",
       "      <td>0</td>\n",
       "      <td>0</td>\n",
       "      <td>0</td>\n",
       "      <td>0</td>\n",
       "      <td>0</td>\n",
       "      <td>0</td>\n",
       "      <td>0</td>\n",
       "    </tr>\n",
       "  </tbody>\n",
       "</table>\n",
       "<p>5 rows × 362 columns</p>\n",
       "</div>"
      ],
      "text/plain": [
       "                Facial Oils for Acne Prone Skin  Price ($)  Rating  #Reviews  \\\n",
       "0    Sunday Riley UFO Ultra-Clarifying Face Oil      40.00     4.3      3767   \n",
       "1        Trilogy Certified Organic Rosehip Oil       29.00     4.6       109   \n",
       "2        Herbivore Botanicals Lapis Facial Oil       72.00     4.4       947   \n",
       "3  Burt's Bees Complete Nourishment Facial Oil       19.99     4.2       177   \n",
       "4           Skinowl Maqui Berry Beauty Drops PM      85.00     5.0         2   \n",
       "\n",
       "                                         Ingredients  \\\n",
       "0  Silybum Marianum (Milk Thistle) Seed Oil, Nige...   \n",
       "1                     Rosa Canina (Rosehip) Seed Oil   \n",
       "2  Squalane, Simmondsia Chinensis (Jojoba) Seed O...   \n",
       "3  Rosa Canina Seed Extract (Rosehip Seed Extract...   \n",
       "4  Raw-Organic-cold-pressed African Adansonia dig...   \n",
       "\n",
       "                                   Ingredients_Clean  Milk Thistle Seed Oil  \\\n",
       "0  Milk Thistle Seed Oil,Black Cumin Seed Oil,Cuc...                      1   \n",
       "1                                        Rosehip Oil                      0   \n",
       "2  Squalane,Jojoba Oil,Fractionated Coconut Oil,K...                      0   \n",
       "3  Rosehip Oil,Jojoba Oil,Natural Fragrance,Eveni...                      0   \n",
       "4  Baobab Oil,Maqui Berry Oil,Vanilla Extract,Tan...                      0   \n",
       "\n",
       "   Black Cumin Seed Oil  Cucumber Oil  Diisopropyl Sebacate  \\\n",
       "0                     1             1                     1   \n",
       "1                     0             0                     0   \n",
       "2                     0             0                     0   \n",
       "3                     0             0                     0   \n",
       "4                     0             0                     0   \n",
       "\n",
       "          ...          Bitter Orange Flower Extract  Maracuja Oil  \\\n",
       "0         ...                                     0             0   \n",
       "1         ...                                     0             0   \n",
       "2         ...                                     0             0   \n",
       "3         ...                                     0             0   \n",
       "4         ...                                     0             0   \n",
       "\n",
       "   Hamamelis Virginiana Leaf/Bark/Twig Extract  Dicaprylyl Ether  \\\n",
       "0                                            0                 0   \n",
       "1                                            0                 0   \n",
       "2                                            0                 0   \n",
       "3                                            0                 0   \n",
       "4                                            0                 0   \n",
       "\n",
       "   Dicaprylyl Carbonate  Coriander Seed Oil  Ginger Root Oil  \\\n",
       "0                     0                   0                0   \n",
       "1                     0                   0                0   \n",
       "2                     0                   0                0   \n",
       "3                     0                   0                0   \n",
       "4                     0                   0                0   \n",
       "\n",
       "   Acerola Fruit Extract  Cetearyl Isononanoate  Isostearyl Alcohol  \n",
       "0                      0                      0                   0  \n",
       "1                      0                      0                   0  \n",
       "2                      0                      0                   0  \n",
       "3                      0                      0                   0  \n",
       "4                      0                      0                   0  \n",
       "\n",
       "[5 rows x 362 columns]"
      ]
     },
     "execution_count": 50,
     "metadata": {},
     "output_type": "execute_result"
    }
   ],
   "source": [
    "data.head()"
   ]
  },
  {
   "cell_type": "code",
   "execution_count": 66,
   "metadata": {},
   "outputs": [
    {
     "name": "stdout",
     "output_type": "stream",
     "text": [
      "Total number of records: 79\n",
      "Facial oils with rating more than 4.5: 32\n",
      "Facial oils with rating 4.5 or lower: 47\n",
      "Percentage of facial oils with rating more than 4.5: 40.50632911392405%\n"
     ]
    }
   ],
   "source": [
    "# Total number of records\n",
    "n_records = data.shape[0]\n",
    "analyze_var_threshold = rating_threshold\n",
    "# Number of records where product's rating is more than 4.5\n",
    "n_greater_45= data[data[\"Rating\"] > analyze_var_threshold].shape[0]\n",
    "\n",
    "# Number of records where product's rating is at most 4.5\n",
    "n_at_most_45= data[data[\"Rating\"] <= analyze_var_threshold].shape[0]\n",
    "\n",
    "# Percentage of products whose rating is more than 4.5\n",
    "greater_percent = 100*(float(n_greater_45 / n_records))\n",
    "\n",
    "# Print the results\n",
    "print(\"Total number of records: {}\".format(n_records))\n",
    "print(\"Facial oils with rating more than 4.5: {}\".format(n_greater_45))\n",
    "print(\"Facial oils with rating 4.5 or lower: {}\".format(n_at_most_45))\n",
    "print(\"Percentage of facial oils with rating more than 4.5: {}%\".format(greater_percent))"
   ]
  },
  {
   "cell_type": "markdown",
   "metadata": {},
   "source": [
    "#### Separate the features and ratings"
   ]
  },
  {
   "cell_type": "code",
   "execution_count": 54,
   "metadata": {},
   "outputs": [],
   "source": [
    "# Split the data into features and target label\n",
    "ratings_raw = data['Rating']\n",
    "features_raw = data.drop('Rating', axis = 1)\n",
    "features_raw = features_raw.drop('Facial Oils for Acne Prone Skin', axis = 1)\n",
    "features_raw = features_raw.drop('Ingredients_Clean', axis = 1)\n",
    "features_raw = features_raw.drop('Ingredients', axis = 1)\n",
    "features_raw = features_raw.drop('Price ($)', axis = 1)\n",
    "features_raw = features_raw.drop('#Reviews', axis = 1)"
   ]
  },
  {
   "cell_type": "code",
   "execution_count": 55,
   "metadata": {},
   "outputs": [
    {
     "data": {
      "text/plain": [
       "0    4.3\n",
       "1    4.6\n",
       "2    4.4\n",
       "3    4.2\n",
       "4    5.0\n",
       "Name: Rating, dtype: float64"
      ]
     },
     "execution_count": 55,
     "metadata": {},
     "output_type": "execute_result"
    }
   ],
   "source": [
    "ratings_raw.head()"
   ]
  },
  {
   "cell_type": "code",
   "execution_count": 56,
   "metadata": {},
   "outputs": [
    {
     "data": {
      "text/html": [
       "<div>\n",
       "<style scoped>\n",
       "    .dataframe tbody tr th:only-of-type {\n",
       "        vertical-align: middle;\n",
       "    }\n",
       "\n",
       "    .dataframe tbody tr th {\n",
       "        vertical-align: top;\n",
       "    }\n",
       "\n",
       "    .dataframe thead th {\n",
       "        text-align: right;\n",
       "    }\n",
       "</style>\n",
       "<table border=\"1\" class=\"dataframe\">\n",
       "  <thead>\n",
       "    <tr style=\"text-align: right;\">\n",
       "      <th></th>\n",
       "      <th>Milk Thistle Seed Oil</th>\n",
       "      <th>Black Cumin Seed Oil</th>\n",
       "      <th>Cucumber Oil</th>\n",
       "      <th>Diisopropyl Sebacate</th>\n",
       "      <th>Pomegranate Seed Oil</th>\n",
       "      <th>Cranberry Seed Oil</th>\n",
       "      <th>Dimethyl Isosorbide</th>\n",
       "      <th>Flaxseed Oil</th>\n",
       "      <th>Capric Triglyceride</th>\n",
       "      <th>Ethyl Linoleate</th>\n",
       "      <th>...</th>\n",
       "      <th>Bitter Orange Flower Extract</th>\n",
       "      <th>Maracuja Oil</th>\n",
       "      <th>Hamamelis Virginiana Leaf/Bark/Twig Extract</th>\n",
       "      <th>Dicaprylyl Ether</th>\n",
       "      <th>Dicaprylyl Carbonate</th>\n",
       "      <th>Coriander Seed Oil</th>\n",
       "      <th>Ginger Root Oil</th>\n",
       "      <th>Acerola Fruit Extract</th>\n",
       "      <th>Cetearyl Isononanoate</th>\n",
       "      <th>Isostearyl Alcohol</th>\n",
       "    </tr>\n",
       "  </thead>\n",
       "  <tbody>\n",
       "    <tr>\n",
       "      <th>0</th>\n",
       "      <td>1</td>\n",
       "      <td>1</td>\n",
       "      <td>1</td>\n",
       "      <td>1</td>\n",
       "      <td>1</td>\n",
       "      <td>1</td>\n",
       "      <td>1</td>\n",
       "      <td>1</td>\n",
       "      <td>1</td>\n",
       "      <td>1</td>\n",
       "      <td>...</td>\n",
       "      <td>0</td>\n",
       "      <td>0</td>\n",
       "      <td>0</td>\n",
       "      <td>0</td>\n",
       "      <td>0</td>\n",
       "      <td>0</td>\n",
       "      <td>0</td>\n",
       "      <td>0</td>\n",
       "      <td>0</td>\n",
       "      <td>0</td>\n",
       "    </tr>\n",
       "    <tr>\n",
       "      <th>1</th>\n",
       "      <td>0</td>\n",
       "      <td>0</td>\n",
       "      <td>0</td>\n",
       "      <td>0</td>\n",
       "      <td>0</td>\n",
       "      <td>0</td>\n",
       "      <td>0</td>\n",
       "      <td>0</td>\n",
       "      <td>0</td>\n",
       "      <td>0</td>\n",
       "      <td>...</td>\n",
       "      <td>0</td>\n",
       "      <td>0</td>\n",
       "      <td>0</td>\n",
       "      <td>0</td>\n",
       "      <td>0</td>\n",
       "      <td>0</td>\n",
       "      <td>0</td>\n",
       "      <td>0</td>\n",
       "      <td>0</td>\n",
       "      <td>0</td>\n",
       "    </tr>\n",
       "    <tr>\n",
       "      <th>2</th>\n",
       "      <td>0</td>\n",
       "      <td>0</td>\n",
       "      <td>0</td>\n",
       "      <td>0</td>\n",
       "      <td>0</td>\n",
       "      <td>0</td>\n",
       "      <td>0</td>\n",
       "      <td>0</td>\n",
       "      <td>0</td>\n",
       "      <td>0</td>\n",
       "      <td>...</td>\n",
       "      <td>0</td>\n",
       "      <td>0</td>\n",
       "      <td>0</td>\n",
       "      <td>0</td>\n",
       "      <td>0</td>\n",
       "      <td>0</td>\n",
       "      <td>0</td>\n",
       "      <td>0</td>\n",
       "      <td>0</td>\n",
       "      <td>0</td>\n",
       "    </tr>\n",
       "    <tr>\n",
       "      <th>3</th>\n",
       "      <td>0</td>\n",
       "      <td>0</td>\n",
       "      <td>0</td>\n",
       "      <td>0</td>\n",
       "      <td>0</td>\n",
       "      <td>0</td>\n",
       "      <td>0</td>\n",
       "      <td>0</td>\n",
       "      <td>0</td>\n",
       "      <td>0</td>\n",
       "      <td>...</td>\n",
       "      <td>0</td>\n",
       "      <td>0</td>\n",
       "      <td>0</td>\n",
       "      <td>0</td>\n",
       "      <td>0</td>\n",
       "      <td>0</td>\n",
       "      <td>0</td>\n",
       "      <td>0</td>\n",
       "      <td>0</td>\n",
       "      <td>0</td>\n",
       "    </tr>\n",
       "    <tr>\n",
       "      <th>4</th>\n",
       "      <td>0</td>\n",
       "      <td>0</td>\n",
       "      <td>0</td>\n",
       "      <td>0</td>\n",
       "      <td>0</td>\n",
       "      <td>0</td>\n",
       "      <td>0</td>\n",
       "      <td>0</td>\n",
       "      <td>0</td>\n",
       "      <td>0</td>\n",
       "      <td>...</td>\n",
       "      <td>0</td>\n",
       "      <td>0</td>\n",
       "      <td>0</td>\n",
       "      <td>0</td>\n",
       "      <td>0</td>\n",
       "      <td>0</td>\n",
       "      <td>0</td>\n",
       "      <td>0</td>\n",
       "      <td>0</td>\n",
       "      <td>0</td>\n",
       "    </tr>\n",
       "  </tbody>\n",
       "</table>\n",
       "<p>5 rows × 356 columns</p>\n",
       "</div>"
      ],
      "text/plain": [
       "   Milk Thistle Seed Oil  Black Cumin Seed Oil  Cucumber Oil  \\\n",
       "0                      1                     1             1   \n",
       "1                      0                     0             0   \n",
       "2                      0                     0             0   \n",
       "3                      0                     0             0   \n",
       "4                      0                     0             0   \n",
       "\n",
       "   Diisopropyl Sebacate  Pomegranate Seed Oil  Cranberry Seed Oil  \\\n",
       "0                     1                     1                   1   \n",
       "1                     0                     0                   0   \n",
       "2                     0                     0                   0   \n",
       "3                     0                     0                   0   \n",
       "4                     0                     0                   0   \n",
       "\n",
       "   Dimethyl Isosorbide  Flaxseed Oil  Capric Triglyceride  Ethyl Linoleate  \\\n",
       "0                    1             1                    1                1   \n",
       "1                    0             0                    0                0   \n",
       "2                    0             0                    0                0   \n",
       "3                    0             0                    0                0   \n",
       "4                    0             0                    0                0   \n",
       "\n",
       "          ...          Bitter Orange Flower Extract  Maracuja Oil  \\\n",
       "0         ...                                     0             0   \n",
       "1         ...                                     0             0   \n",
       "2         ...                                     0             0   \n",
       "3         ...                                     0             0   \n",
       "4         ...                                     0             0   \n",
       "\n",
       "   Hamamelis Virginiana Leaf/Bark/Twig Extract  Dicaprylyl Ether  \\\n",
       "0                                            0                 0   \n",
       "1                                            0                 0   \n",
       "2                                            0                 0   \n",
       "3                                            0                 0   \n",
       "4                                            0                 0   \n",
       "\n",
       "   Dicaprylyl Carbonate  Coriander Seed Oil  Ginger Root Oil  \\\n",
       "0                     0                   0                0   \n",
       "1                     0                   0                0   \n",
       "2                     0                   0                0   \n",
       "3                     0                   0                0   \n",
       "4                     0                   0                0   \n",
       "\n",
       "   Acerola Fruit Extract  Cetearyl Isononanoate  Isostearyl Alcohol  \n",
       "0                      0                      0                   0  \n",
       "1                      0                      0                   0  \n",
       "2                      0                      0                   0  \n",
       "3                      0                      0                   0  \n",
       "4                      0                      0                   0  \n",
       "\n",
       "[5 rows x 356 columns]"
      ]
     },
     "execution_count": 56,
     "metadata": {},
     "output_type": "execute_result"
    }
   ],
   "source": [
    "features_raw.head()"
   ]
  },
  {
   "cell_type": "code",
   "execution_count": 57,
   "metadata": {},
   "outputs": [
    {
     "data": {
      "text/html": [
       "<div>\n",
       "<style scoped>\n",
       "    .dataframe tbody tr th:only-of-type {\n",
       "        vertical-align: middle;\n",
       "    }\n",
       "\n",
       "    .dataframe tbody tr th {\n",
       "        vertical-align: top;\n",
       "    }\n",
       "\n",
       "    .dataframe thead th {\n",
       "        text-align: right;\n",
       "    }\n",
       "</style>\n",
       "<table border=\"1\" class=\"dataframe\">\n",
       "  <thead>\n",
       "    <tr style=\"text-align: right;\">\n",
       "      <th></th>\n",
       "      <th>Milk Thistle Seed Oil</th>\n",
       "      <th>Black Cumin Seed Oil</th>\n",
       "      <th>Cucumber Oil</th>\n",
       "      <th>Diisopropyl Sebacate</th>\n",
       "      <th>Pomegranate Seed Oil</th>\n",
       "      <th>Cranberry Seed Oil</th>\n",
       "      <th>Dimethyl Isosorbide</th>\n",
       "      <th>Flaxseed Oil</th>\n",
       "      <th>Capric Triglyceride</th>\n",
       "      <th>Ethyl Linoleate</th>\n",
       "      <th>...</th>\n",
       "      <th>Bitter Orange Flower Extract</th>\n",
       "      <th>Maracuja Oil</th>\n",
       "      <th>Hamamelis Virginiana Leaf/Bark/Twig Extract</th>\n",
       "      <th>Dicaprylyl Ether</th>\n",
       "      <th>Dicaprylyl Carbonate</th>\n",
       "      <th>Coriander Seed Oil</th>\n",
       "      <th>Ginger Root Oil</th>\n",
       "      <th>Acerola Fruit Extract</th>\n",
       "      <th>Cetearyl Isononanoate</th>\n",
       "      <th>Isostearyl Alcohol</th>\n",
       "    </tr>\n",
       "  </thead>\n",
       "  <tbody>\n",
       "    <tr>\n",
       "      <th>0</th>\n",
       "      <td>1</td>\n",
       "      <td>1</td>\n",
       "      <td>1</td>\n",
       "      <td>1</td>\n",
       "      <td>1</td>\n",
       "      <td>1</td>\n",
       "      <td>1</td>\n",
       "      <td>1</td>\n",
       "      <td>1</td>\n",
       "      <td>1</td>\n",
       "      <td>...</td>\n",
       "      <td>0</td>\n",
       "      <td>0</td>\n",
       "      <td>0</td>\n",
       "      <td>0</td>\n",
       "      <td>0</td>\n",
       "      <td>0</td>\n",
       "      <td>0</td>\n",
       "      <td>0</td>\n",
       "      <td>0</td>\n",
       "      <td>0</td>\n",
       "    </tr>\n",
       "    <tr>\n",
       "      <th>1</th>\n",
       "      <td>0</td>\n",
       "      <td>0</td>\n",
       "      <td>0</td>\n",
       "      <td>0</td>\n",
       "      <td>0</td>\n",
       "      <td>0</td>\n",
       "      <td>0</td>\n",
       "      <td>0</td>\n",
       "      <td>0</td>\n",
       "      <td>0</td>\n",
       "      <td>...</td>\n",
       "      <td>0</td>\n",
       "      <td>0</td>\n",
       "      <td>0</td>\n",
       "      <td>0</td>\n",
       "      <td>0</td>\n",
       "      <td>0</td>\n",
       "      <td>0</td>\n",
       "      <td>0</td>\n",
       "      <td>0</td>\n",
       "      <td>0</td>\n",
       "    </tr>\n",
       "    <tr>\n",
       "      <th>2</th>\n",
       "      <td>0</td>\n",
       "      <td>0</td>\n",
       "      <td>0</td>\n",
       "      <td>0</td>\n",
       "      <td>0</td>\n",
       "      <td>0</td>\n",
       "      <td>0</td>\n",
       "      <td>0</td>\n",
       "      <td>0</td>\n",
       "      <td>0</td>\n",
       "      <td>...</td>\n",
       "      <td>0</td>\n",
       "      <td>0</td>\n",
       "      <td>0</td>\n",
       "      <td>0</td>\n",
       "      <td>0</td>\n",
       "      <td>0</td>\n",
       "      <td>0</td>\n",
       "      <td>0</td>\n",
       "      <td>0</td>\n",
       "      <td>0</td>\n",
       "    </tr>\n",
       "    <tr>\n",
       "      <th>3</th>\n",
       "      <td>0</td>\n",
       "      <td>0</td>\n",
       "      <td>0</td>\n",
       "      <td>0</td>\n",
       "      <td>0</td>\n",
       "      <td>0</td>\n",
       "      <td>0</td>\n",
       "      <td>0</td>\n",
       "      <td>0</td>\n",
       "      <td>0</td>\n",
       "      <td>...</td>\n",
       "      <td>0</td>\n",
       "      <td>0</td>\n",
       "      <td>0</td>\n",
       "      <td>0</td>\n",
       "      <td>0</td>\n",
       "      <td>0</td>\n",
       "      <td>0</td>\n",
       "      <td>0</td>\n",
       "      <td>0</td>\n",
       "      <td>0</td>\n",
       "    </tr>\n",
       "    <tr>\n",
       "      <th>4</th>\n",
       "      <td>0</td>\n",
       "      <td>0</td>\n",
       "      <td>0</td>\n",
       "      <td>0</td>\n",
       "      <td>0</td>\n",
       "      <td>0</td>\n",
       "      <td>0</td>\n",
       "      <td>0</td>\n",
       "      <td>0</td>\n",
       "      <td>0</td>\n",
       "      <td>...</td>\n",
       "      <td>0</td>\n",
       "      <td>0</td>\n",
       "      <td>0</td>\n",
       "      <td>0</td>\n",
       "      <td>0</td>\n",
       "      <td>0</td>\n",
       "      <td>0</td>\n",
       "      <td>0</td>\n",
       "      <td>0</td>\n",
       "      <td>0</td>\n",
       "    </tr>\n",
       "  </tbody>\n",
       "</table>\n",
       "<p>5 rows × 356 columns</p>\n",
       "</div>"
      ],
      "text/plain": [
       "   Milk Thistle Seed Oil  Black Cumin Seed Oil  Cucumber Oil  \\\n",
       "0                      1                     1             1   \n",
       "1                      0                     0             0   \n",
       "2                      0                     0             0   \n",
       "3                      0                     0             0   \n",
       "4                      0                     0             0   \n",
       "\n",
       "   Diisopropyl Sebacate  Pomegranate Seed Oil  Cranberry Seed Oil  \\\n",
       "0                     1                     1                   1   \n",
       "1                     0                     0                   0   \n",
       "2                     0                     0                   0   \n",
       "3                     0                     0                   0   \n",
       "4                     0                     0                   0   \n",
       "\n",
       "   Dimethyl Isosorbide  Flaxseed Oil  Capric Triglyceride  Ethyl Linoleate  \\\n",
       "0                    1             1                    1                1   \n",
       "1                    0             0                    0                0   \n",
       "2                    0             0                    0                0   \n",
       "3                    0             0                    0                0   \n",
       "4                    0             0                    0                0   \n",
       "\n",
       "          ...          Bitter Orange Flower Extract  Maracuja Oil  \\\n",
       "0         ...                                     0             0   \n",
       "1         ...                                     0             0   \n",
       "2         ...                                     0             0   \n",
       "3         ...                                     0             0   \n",
       "4         ...                                     0             0   \n",
       "\n",
       "   Hamamelis Virginiana Leaf/Bark/Twig Extract  Dicaprylyl Ether  \\\n",
       "0                                            0                 0   \n",
       "1                                            0                 0   \n",
       "2                                            0                 0   \n",
       "3                                            0                 0   \n",
       "4                                            0                 0   \n",
       "\n",
       "   Dicaprylyl Carbonate  Coriander Seed Oil  Ginger Root Oil  \\\n",
       "0                     0                   0                0   \n",
       "1                     0                   0                0   \n",
       "2                     0                   0                0   \n",
       "3                     0                   0                0   \n",
       "4                     0                   0                0   \n",
       "\n",
       "   Acerola Fruit Extract  Cetearyl Isononanoate  Isostearyl Alcohol  \n",
       "0                      0                      0                   0  \n",
       "1                      0                      0                   0  \n",
       "2                      0                      0                   0  \n",
       "3                      0                      0                   0  \n",
       "4                      0                      0                   0  \n",
       "\n",
       "[5 rows x 356 columns]"
      ]
     },
     "metadata": {},
     "output_type": "display_data"
    }
   ],
   "source": [
    "features = pd.DataFrame(data = features_raw)\n",
    "# Show an example of a record with scaling applied\n",
    "display(features.head(n = 5))"
   ]
  },
  {
   "cell_type": "markdown",
   "metadata": {},
   "source": [
    "Convert the target label `'rating_raw'` to numerical entries.\n",
    "   - Set records with <=4.5 to `0` and records with >4.5 to `1`."
   ]
  },
  {
   "cell_type": "code",
   "execution_count": 67,
   "metadata": {
    "scrolled": true
   },
   "outputs": [
    {
     "name": "stdout",
     "output_type": "stream",
     "text": [
      "356 total features after one-hot encoding.\n",
      "['Milk Thistle Seed Oil', 'Black Cumin Seed Oil', 'Cucumber Oil', 'Diisopropyl Sebacate', 'Pomegranate Seed Oil', 'Cranberry Seed Oil', 'Dimethyl Isosorbide', 'Flaxseed Oil', 'Capric Triglyceride', 'Ethyl Linoleate', 'Hexylresorcinol', 'Licorice', 'Salicylic Acid', 'Apricot Kernel Oil', 'Matricaria Flower Extract', 'Neroli Flower Extract', 'Tea Tree Oil', 'Sunflower Oil', 'Rosemary Extract', 'Grapefruit Peel Oil', 'Neem Leaf Extract', 'Neem Flower Extract', 'Ivy Gourd Fruit Extract', 'Amino Esters-1', 'Amber Leaf Extract', 'Eggplant Fruit Extract', 'Aloe Vera Flower Extract', 'Henna Extract', 'Tulsi Leaf Extract', 'Basil Extract', 'Turmeric Root Extract', 'Corallina Officinalis Extract', 'Jojoba Oil', 'Pearl Powder', 'Moringa Seed Oil', 'Rosehip Oil', 'Squalane', 'Fractionated Coconut Oil', 'Kukui Nut Oil', 'Tocopherol', 'Blue Tansy Leaf Oil', 'Jasmine', 'Moroccan Rose Absolute', 'Natural Fragrance', 'Evening Primrose Seed Extract', 'Borage Oil', 'Wheat Germ Oil', 'Hazel Seed Oil', 'Marigold Extract', 'Tea Leaf Extract', 'Beta-Carotene', 'Canola Oil', 'Soybean Oil', 'Ascorbyl Palmitate', 'Retinyl Palmitate', 'Limonene', 'Linalool', 'Baobab Oil', 'Maqui Berry Oil', 'Vanilla Extract', 'Tangerine Oil', 'Distilled Water', 'Alcohol Denat', 'Polysorbate 60', 'Tamanu Oil', 'Citral', 'Citronellol', 'Leptospermum Petersonii Oil', 'Marula Oil', 'Benzyl Alcohol', 'Hexyl Cinnamal', 'Hydroxycitronellal', 'Safflower Seed Oil', 'Avocado Oil', 'Macadamia Ternifolia Seed Oil', 'Shea Butter', 'Evening Primrose Oil', 'Marsh Mallow Root Extract', 'Rose Extract', 'Daisy Flower Extract', 'Purple Coneflower Extract', 'Violet Extract', 'True Comfrey Leaf Extract', 'Carrot Root Extract', 'Cinnamyl Alcohol', 'Eugenol', 'Coumarin', 'Benzyl Salicylate', 'Geraniol', 'Benzyl Benzoate', 'Ethylhexyl Palmitate', 'Coconut Oil', 'Clary Sage Oil', 'Seabuckthorn Oil', 'Lavandin Oil', 'St. John’s Wort Extract', 'Horsetail', 'Country Sarsaparilla', 'Ashwagandha', 'Olive Leaf Extract', 'Buriti Oil', 'Olive Oil', 'Elderberry Fruit Extract', 'Starflower Leaf Extract', 'Alfalfa Extract', 'Arnica Extract', 'Linden Extract', 'Sesame Oil', 'Sage Leaf Extract', 'Coriander Extract', 'Rue Extract', 'Eucalyptus Oil', 'Rosemary Oil', 'Ylang Ylang Oil', 'Lavender Oil', 'Geranium Flower Oil', 'Bitter Orange Oil', 'Anthyllis Vulneraria', 'Sweet Almond Oil', 'Peanut Oil', 'Chinaberry Leaf Extract', 'Wheat Bran Extract', 'Farnesol', 'Lecithin', 'Cocoa Seed Butter', 'Passion Fruit Seed Oil', 'Argan Oil', 'Grape Seed Oil', 'Tea-oil camellia', 'Tocopherol acetate', 'Ascorbyl Tetraisopalmitate', 'BHT', 'Pelargonium Graveolens Leaf Oil', 'Bitter Orange Peel Extract', 'Bergamot Fruit Oil', 'Lemon Peel Oil', 'Blackberry Seed Oil', 'Chia Oil', 'Hydroxypinacolone Retinoate', 'Matricaria Flower Oil', 'Chamomile Oil', 'Neroli Oil', 'Blood Orange Oil', 'Vetiver Oil', 'CI 61565 (Green 6)', 'CI 60725 (Violet 2).', 'Camelina Sativa Seed Oil', 'Pentaerythrityl Tetra-Di-t-Butyl Hydroxyhydrocinnamate', 'Marjoram Leaf Oil', 'Sweet Orange Oil', 'Blueberry Seed Oil', 'Raspberry Seed Oil', 'Carrot Seed Oil', 'Broccoli Seed Oil', 'Meadowfoam Seed Oil', 'Isoamyl Laurate', 'Alpha-Isomethyl Ionone', 'Bisabolol', 'Butylphenyl Methylpropional', 'Glyceryl Caprylate', 'Hydroxyisohexyl 3-Cyclohexene Carboxaldehyde', 'Physalis Angulata Extract', 'Ginger Root Extract', 'Dimethicone', 'Neopentyl Glycol Diheptanoate', 'Octyldodecanol', 'Trisiloxane', 'Tricaprylin', 'Orange Peel Oil', 'Cinnamon Leaf Oil', 'Galbanum Resin Oil', 'Valeriana Officinalis Root Extract', 'Orange Juice', 'Wheat Germ Extract', 'Barley Extract', 'Clary Sage Extract', 'Coffee Seed Extract', 'Linoleic Acid', 'Cholesterol', 'Phytosterols', 'Tetrahexyldecyl Ascorbate', 'parfum (natural)', 'Heptyl Undecylenate', 'Isostearyl Linoleate', 'Dextrin Palmitate', 'Isodecyl Salicylate', 'Charcoal Powder', 'Aloe Vera Leaf Juice', 'Diisopropyl Adipate', 'Iron Oxides', 'Orchid Flower Extract', 'Jasmine Extract', 'Coconut Alkanes', 'Coco Caprylate/Caprate', 'Ethylene/Propylene/Styrene Copolymer', 'Cannabis Sativa Seed Oil', 'Retinyl Propionate', 'Linolenic Acid', 'Panthenyl Triacetate', '7-Dehydrocholesterol', 'Punica Granatum Sterols', 'Rice Bran Extract', 'Sunflower Extract', 'Corn Oil', 'Butylene/Ethylene/Styrene Copolymer', 'Dicapryl Carbonate', 'Prickly Pear Seed Oil', 'Acai Fruit Extract', 'Goji Extract', 'Maqui Fruit Extract', 'Moringa Leaf Extract', 'Poppy Seed Oil', 'Radish Seed Extract', 'Amyris Balsamifera Bark Oil', 'Palmarosa Oil', 'Ashwagandha Leaf Extract', 'Shiitake Extract', 'Borago Ocinalis', 'Proprietary Blend of Pure Essential Oils and Absolutes', 'Propylene Glycol', 'Glycerin', 'Phenoxyethanol', 'Hexylene Glycol', 'Diazolidinyl Urea', 'PEG-25 Hydrogenated Castor Oil', 'Castor Oil', 'Methylparaben', 'Propylparaben', 'Helichrysum Italicum Extract', 'Musk Rose Seed Oil', 'Mirtle Oil', 'Geranium Oil', \"Purple Viper's-bugloss seed oil\", 'CoQ10', 'Butylene Glycol', 'Almond Oil', 'Bakuchiol', 'Polylactic Acid', 'Disodium EDTA', 'Dehydroacetic Acid', 'Ethylhexylglycerin', 'Ascorbyl Glucoside', 'Pumice', 'Isomalt', 'Glucose', 'Subtilisin', 'Hydrolyzed Pearl', 'Shea Butter Seedcake Extract', 'Carbomer', 'Sodium Lactate', 'Rhododendron Ferrugineum Leaf Cell Culture Extract', 'Dipeptide Diaminobutyroyl Benzylamide Diacetate', 'Polysorbate 20', 'Sodium Benzoate', 'Lactic Acid', 'Palmitoyl Tripeptide-1', 'Palmitoyl Tetrapeptide-7', 'CI 17200', 'Cranberry Fruit Extract', 'Pomegranate Extract', 'Blueberry Extract', 'Strawberry Fruit Extract', 'Kiwi Extract', 'Watermelon Fruit Extract', 'Grape Seed Extract', 'Raspberry Seed Extract', 'Camu Camu Fruit Extract', 'Sea Buckthorn Berry Extract', 'Hemp Seed Extract', 'Broccoli Extract', 'Olive Husk Oil', 'Candida Bombicola/Glucose/Methyl Rapeseedate Ferment', 'Isosorbide Dicaprylate', 'Angelica Gigas Root Extract', 'Gromwell Root Extract', 'Turmeric Root Oil', 'Isopropyl Myristate', 'Chlorophyllin-Copper Complex', 'Isodecyl Neopentanoate', 'Colloidal Oatmeal', 'Shea Oil', 'Black Currant Seed Extract', 'Chlorella Vulgaris Extract', 'Panax Ginseng Root Extract', 'Feverfew Extract', 'Arnica Montana Flower Extract', 'Ricinoleth-40', 'Leuconostoc/Radish Root Ferment Filtrate', 'EDTA', 'Citric Acid', 'Cymbopogon Martini Oil', 'Camellia Sinensis Leaf Water', 'Dipropylene Glycol', 'Alcohol', 'Methyl Gluceth-20', 'Peg-60 Hydrogenated Castor Oil', '1-Hexanediol', '2-Hexanediol', 'Xanthan Gum', 'Octyldodeceth-16', 'Rapeseed Seed Oil', 'Caprylyl Glycol', 'Babassu Seed Oil', 'C13-15 Alkane', 'Willow Bark Extract', 'Black Currant Seed Oil', 'Mandarin Orange Peel Oil', 'Watermelon Seed Oil', 'aloe vera', 'CETYL ETHYLHEXANOATE', 'ISOPROPYL MYRISTATE', 'SORBETH-30 TETRAOLEATE', 'POLYGLYCERYL-10 DIISOSTEARATE', 'Rice Bran Oil', 'Rice Extract', 'SAPONARIA OFFICINALIS LEAF EXTRACT', 'isopropyl myristate', 'propylene glycol dicaprate', 'Sunflower Seed Cake', 'Cucumber Extract', 'Pumpkin Seed Oil', 'Frankincense', 'Bergamot BF', 'Vitamin C', 'Plum Seed Oil', 'Peach Kernel Oil', 'Hydroxyisohexyl 3-cyclohexene carboxaldehyde', 'Butylphenyl methylpropional', 'Goji Seed Oil', 'Rosehip Seed Extract', 'Frankincense Oil', 'Sandalwood Oil', 'Myrrh Oil', 'Pepper Fruit Oil', 'Cedarwood Wood Oil', 'Lemongrass Oil', 'Lime Oil', 'Oat Kernel Oil', 'Abyssinian Seed Oil', 'Violet Leaf Oil', 'Lotus Flower Extract', 'Cloudberry Seed Oil', 'Rose Otto Flower Oil', 'Peppermint Leaf Extract', 'Cucumber Flower Extract', 'Geranium Maculatum Flower Extract', 'Bitter Orange Flower Extract', 'Maracuja Oil', 'Hamamelis Virginiana Leaf/Bark/Twig Extract', 'Dicaprylyl Ether', 'Dicaprylyl Carbonate', 'Coriander Seed Oil', 'Ginger Root Oil', 'Acerola Fruit Extract', 'Cetearyl Isononanoate', 'Isostearyl Alcohol']\n"
     ]
    }
   ],
   "source": [
    "# Encode the 'ratings_raw' data to numerical values\n",
    "ratings = ratings_raw > rating_threshold\n",
    "\n",
    "# Print the number of features after one-hot encoding\n",
    "encoded = list(features.columns)\n",
    "print(\"{} total features after one-hot encoding.\".format(len(encoded)))\n",
    "\n",
    "# print in the following line shows the encoded feature names\n",
    "print(encoded)"
   ]
  },
  {
   "cell_type": "code",
   "execution_count": 59,
   "metadata": {},
   "outputs": [
    {
     "data": {
      "text/plain": [
       "Index(['Facial Oils for Acne Prone Skin', 'Price ($)', 'Rating', '#Reviews',\n",
       "       'Ingredients', 'Ingredients_Clean', 'Milk Thistle Seed Oil',\n",
       "       'Black Cumin Seed Oil', 'Cucumber Oil', 'Diisopropyl Sebacate',\n",
       "       ...\n",
       "       'Bitter Orange Flower Extract', 'Maracuja Oil',\n",
       "       'Hamamelis Virginiana Leaf/Bark/Twig Extract', 'Dicaprylyl Ether',\n",
       "       'Dicaprylyl Carbonate', 'Coriander Seed Oil', 'Ginger Root Oil',\n",
       "       'Acerola Fruit Extract', 'Cetearyl Isononanoate', 'Isostearyl Alcohol'],\n",
       "      dtype='object', length=362)"
      ]
     },
     "execution_count": 59,
     "metadata": {},
     "output_type": "execute_result"
    }
   ],
   "source": [
    "data.columns"
   ]
  },
  {
   "cell_type": "markdown",
   "metadata": {},
   "source": [
    "### Shuffle and Split Data\n",
    "Now all _categorical variables_ have been converted into numerical features, and all numerical features have been normalized. I have split the data (both features and their labels) into training and test sets. Given that the data has less number of facial oils and I want to have a good number of points for testing as well, I have split the data into similar proportions for training and testing. 55% of the data will be used for training and 45% for testing.\n",
    "\n",
    "Run the code cell below to perform this split."
   ]
  },
  {
   "cell_type": "code",
   "execution_count": 60,
   "metadata": {},
   "outputs": [
    {
     "name": "stdout",
     "output_type": "stream",
     "text": [
      "Training set has 43 samples.\n",
      "Testing set has 36 samples.\n"
     ]
    }
   ],
   "source": [
    "# Import train_test_split\n",
    "from sklearn.model_selection import train_test_split\n",
    "\n",
    "# Split the 'features' and 'rating' data into training and testing sets\n",
    "X_train, X_test, y_train, y_test = train_test_split(features, \n",
    "                                                    ratings, \n",
    "                                                    test_size = 0.45, \n",
    "                                                    random_state = 0)\n",
    "\n",
    "# Show the results of the split\n",
    "print(\"Training set has {} samples.\".format(X_train.shape[0]))\n",
    "print(\"Testing set has {} samples.\".format(X_test.shape[0]))"
   ]
  },
  {
   "cell_type": "code",
   "execution_count": 61,
   "metadata": {},
   "outputs": [
    {
     "data": {
      "text/plain": [
       "Index(['Milk Thistle Seed Oil', 'Black Cumin Seed Oil', 'Cucumber Oil',\n",
       "       'Diisopropyl Sebacate', 'Pomegranate Seed Oil', 'Cranberry Seed Oil',\n",
       "       'Dimethyl Isosorbide', 'Flaxseed Oil', 'Capric Triglyceride',\n",
       "       'Ethyl Linoleate',\n",
       "       ...\n",
       "       'Bitter Orange Flower Extract', 'Maracuja Oil',\n",
       "       'Hamamelis Virginiana Leaf/Bark/Twig Extract', 'Dicaprylyl Ether',\n",
       "       'Dicaprylyl Carbonate', 'Coriander Seed Oil', 'Ginger Root Oil',\n",
       "       'Acerola Fruit Extract', 'Cetearyl Isononanoate', 'Isostearyl Alcohol'],\n",
       "      dtype='object', length=356)"
      ]
     },
     "execution_count": 61,
     "metadata": {},
     "output_type": "execute_result"
    }
   ],
   "source": [
    "features.columns"
   ]
  },
  {
   "cell_type": "markdown",
   "metadata": {},
   "source": [
    "----\n",
    "## Evaluating Model Performance\n",
    "In this section, we will investigate four different algorithms, and determine which is best at modeling the data. Three of these algorithms will be supervised learners of my choice, and the fourth algorithm is known as a *naive predictor*."
   ]
  },
  {
   "cell_type": "markdown",
   "metadata": {},
   "source": [
    "### Metrics and the Naive Predictor\n",
    "I will use **F-beta score** as the metric to decide how effective a model is:\n",
    "\n",
    "$$ F_{\\beta} = (1 + \\beta^2) \\cdot \\frac{precision \\cdot recall}{\\left( \\beta^2 \\cdot precision \\right) + recall} $$\n",
    "\n",
    "\n",
    "F1 score is the weighted average (harmonic mean) of the precision and recall scores. This score can range from 0 to 1, with 1 being the best possible F1 score.\n",
    "\n",
    "In particular, when $\\beta = 0.5$, more emphasis is placed on precision. This is called the **F$_{0.5}$ score** (or F-score for simplicity).\n",
    "\n",
    "I expect my model to have a higher F-score than the Naive Predictor. Naive Predictor classifies every facial oil to have a rating of more than 4.5."
   ]
  },
  {
   "cell_type": "markdown",
   "metadata": {},
   "source": [
    "### Naive Predictor Performace\n",
    "If I chose a model that always predicted a facial oil to have a rating of > 4.5, what would that model's accuracy and F-score be on this dataset? "
   ]
  },
  {
   "cell_type": "code",
   "execution_count": 68,
   "metadata": {},
   "outputs": [
    {
     "name": "stdout",
     "output_type": "stream",
     "text": [
      "Naive Predictor: [Accuracy score: 0.4051, F-score: 0.4598]\n"
     ]
    }
   ],
   "source": [
    "TP = np.sum(ratings) # Counting the \"1\"s as this is the naive case. Note that 'rating' is the 'rating_raw' data encoded to numerical values done in the data preprocessing step.\n",
    "FP = ratings.count() - TP # Specific to the naive case\n",
    "\n",
    "TN = 0 # No predicted negatives in the naive case\n",
    "FN = 0 # No predicted negatives in the naive case\n",
    "\n",
    "# Calculate accuracy, precision and recall\n",
    "accuracy = float(TP + TN)/(TP + FP + TN + FN)\n",
    "recall = float(TP)/(TP+FN)\n",
    "precision = float(TP)/(TP+FP)\n",
    "\n",
    "# Calculate F-score using the formula above for beta = 0.5 and correct values for precision and recall.\n",
    "beta = 0.5\n",
    "fscore = (1 + beta**2) * (precision*recall) / (beta**2*precision + recall)\n",
    "\n",
    "# Print the results \n",
    "print(\"Naive Predictor: [Accuracy score: {:.4f}, F-score: {:.4f}]\".format(accuracy, fscore))"
   ]
  },
  {
   "cell_type": "markdown",
   "metadata": {},
   "source": [
    "###  Supervised Learning Models\n",
    "**I am going to explore using these 3 models that are currently available in** [`scikit-learn`](http://scikit-learn.org/stable/supervised_learning.html):\n",
    "\n",
    "AdaBoostClassifier\n",
    "\n",
    "RandomForestClassifier\n",
    "\n",
    "Support Vector Machines"
   ]
  },
  {
   "cell_type": "markdown",
   "metadata": {},
   "source": [
    "### Implementation - Creating a Training and Predicting Pipeline\n",
    "To properly evaluate the performance of each model I've chosen, it's important that I create a training and predicting pipeline that allows me to quickly and effectively train models using training data and perform predictions on the testing data. In evaluate_models function, I will do the following:\n",
    " - Import `fbeta_score` and `accuracy_score` from [`sklearn.metrics`](http://scikit-learn.org/stable/modules/classes.html#sklearn-metrics-metrics).\n",
    " - Fit the learner to the sampled training data and record the training time.\n",
    " - Perform predictions on the test data `X_test`\n",
    " - Calculate the accuracy score for both the training subset and testing set.\n",
    " - Calculate the F-score for both the training subset and testing set."
   ]
  },
  {
   "cell_type": "markdown",
   "metadata": {},
   "source": [
    "### Implementation: Model Evaluation"
   ]
  },
  {
   "cell_type": "code",
   "execution_count": 64,
   "metadata": {
    "scrolled": true
   },
   "outputs": [
    {
     "name": "stdout",
     "output_type": "stream",
     "text": [
      "RandomForestClassifier trained on 43 samples.\n",
      "ModelName: RandomForestClassifier, F-score: 0.42372881355932196, Accuracy: 0.5555555555555556, train_time: 0.043883562088012695, pred_time: 0.005984783172607422, samples: 43\n",
      "RandomForestClassifier trained on 43 samples.\n",
      "ModelName: RandomForestClassifier, F-score: 0.42372881355932196, Accuracy: 0.5555555555555556, train_time: 0.03241300582885742, pred_time: 0.0024552345275878906, samples: 43\n",
      "RandomForestClassifier trained on 43 samples.\n",
      "ModelName: RandomForestClassifier, F-score: 0.42372881355932196, Accuracy: 0.5555555555555556, train_time: 0.023935556411743164, pred_time: 0.003988981246948242, samples: 43\n",
      "AdaBoostClassifier trained on 43 samples.\n",
      "ModelName: AdaBoostClassifier, F-score: 0.514018691588785, Accuracy: 0.5555555555555556, train_time: 1.0472614765167236, pred_time: 0.14299678802490234, samples: 43\n",
      "AdaBoostClassifier trained on 43 samples.\n",
      "ModelName: AdaBoostClassifier, F-score: 0.514018691588785, Accuracy: 0.5555555555555556, train_time: 1.017338752746582, pred_time: 0.1325855255126953, samples: 43\n",
      "AdaBoostClassifier trained on 43 samples.\n",
      "ModelName: AdaBoostClassifier, F-score: 0.514018691588785, Accuracy: 0.5555555555555556, train_time: 1.0631024837493896, pred_time: 0.11103272438049316, samples: 43\n",
      "SVC trained on 43 samples.\n",
      "ModelName: SVC, F-score: 0.40229885057471265, Accuracy: 0.4722222222222222, train_time: 0.003988981246948242, pred_time: 0.0040302276611328125, samples: 43\n",
      "SVC trained on 43 samples.\n",
      "ModelName: SVC, F-score: 0.40229885057471265, Accuracy: 0.4722222222222222, train_time: 0.003946781158447266, pred_time: 0.003986835479736328, samples: 43\n",
      "SVC trained on 43 samples.\n",
      "ModelName: SVC, F-score: 0.40229885057471265, Accuracy: 0.4722222222222222, train_time: 0.003677845001220703, pred_time: 0.003988504409790039, samples: 43\n"
     ]
    },
    {
     "data": {
      "image/png": "[encoded data removed]",
      "text/plain": [
       "<Figure size 900x720 with 6 Axes>"
      ]
     },
     "metadata": {},
     "output_type": "display_data"
    }
   ],
   "source": [
    "# Import the three supervised learning models from sklearn\n",
    "results = vs.evaluate_models(X_train, y_train, X_test, y_test)\n",
    "vs.evaluate(results, accuracy, fscore)"
   ]
  },
  {
   "cell_type": "markdown",
   "metadata": {},
   "source": [
    "### Choosing the Best Model\n",
    "\n",
    "Based on the evaluation I performed earlier, I describe below which of the three models I believe to be most appropriate for identifying facial oils that have rating > 4.5. \n",
    "\n"
   ]
  },
  {
   "cell_type": "markdown",
   "metadata": {},
   "source": [
    "Based on the F-score for testing set, AdaBoostClassifier has the highest F-score and accuracy. These are the F-score and accuracy values for the AdaBoost model vs. Naive Predictor for the testing set when 100% of the training set is used:\n",
    "\n",
    "|     Metric     | Naive Predictor   | AdaBoostClassifier|\n",
    "| :------------: | :---------------: | :---------------: | \n",
    "| Accuracy Score |      0.4051       |       0.5555      |\n",
    "| F-score        |      0.4598       |       0.5140      |\n",
    "\n",
    "F-score and accuracy are reliable metrics to decide how effective a model is and hence, I can confidently say the AdaBoostClassifier is the best method. Hence, AdaBoostClassifier has done a better job at predicting if a facial oil could have a rating > 4.5."
   ]
  },
  {
   "cell_type": "markdown",
   "metadata": {},
   "source": [
    "### Describing the Model in Layman's Terms\n",
    "\n",
    "I explain below, in layman's terms, how the final model chosen is supposed to work. I describe the major qualities of the model, such as how the model is trained and how the model makes a prediction."
   ]
  },
  {
   "cell_type": "markdown",
   "metadata": {},
   "source": [
    "**Answer:** \n",
    "\n",
    "I have selected AdaBoostClassifier model. Here is the idea behind this model:\n",
    "1. Fit the first learner to maximize accuracy or equivalently minimize the number of errors. Remember this model for later.\n",
    "\n",
    "2. Now, use the second learner to fix the mistakes that the first model has made: Take the misclassified points of the first learner and make them bigger. In other words, punish the model more if it misses these points: This second weak learner needs to focus on these points more. Second weak learner will be this one, which correctly classifies these points. Remember this model also for later. \n",
    "\n",
    "3. Now again punish the points misclassified by the second model by enlarging these misclassified points. Third weak learner is this one which tries really hard to correctly classify the big points. Remember this model as well. \n",
    "\n",
    "4. Now combine these three models: First learner (Point 1. above), second learner (Point 2. above), third learner (Point 3. above)\n",
    "\n",
    "5. The combination of these three models gives the AdaBoostClassifier model.\n",
    "\n",
    "\n",
    "\n",
    "**References**: Udacity Lectures"
   ]
  },
  {
   "cell_type": "markdown",
   "metadata": {},
   "source": [
    "<a id='q2'></a>\n",
    "## 2. Which ingredients help determine if the product is highly rated?\n",
    "The feature importance attribute of the model gives us the key features (ingredients).\n",
    "\n",
    "An important task when performing supervised learning on a dataset like the facial data is determining which features provide the most predictive power. By focusing on the relationship between only a few crucial features and the rating, we simplify our understanding of the phenomenon. In this case study, that means I wish to identify a small number of features that most strongly predict whether a facial oil could have a rating of more than 4.5."
   ]
  },
  {
   "cell_type": "markdown",
   "metadata": {},
   "source": [
    "### Feature Relevance Observation\n",
    "It was shown earlier that there are 356 different ingredients in the facial oils data. Out of these 356 ingredients, which ten ingredients do I believe to be most important for prediction, and in what order would I rank them?"
   ]
  },
  {
   "cell_type": "markdown",
   "metadata": {},
   "source": [
    "### Implementation - Extracting Feature Importance"
   ]
  },
  {
   "cell_type": "code",
   "execution_count": 65,
   "metadata": {
    "scrolled": true
   },
   "outputs": [
    {
     "data": {
      "image/png": "[encoded data removed]",
      "text/plain": [
       "<Figure size 504x504 with 1 Axes>"
      ]
     },
     "metadata": {},
     "output_type": "display_data"
    }
   ],
   "source": [
    "# Import a supervised learning model that has 'feature_importances_'\n",
    "from sklearn.ensemble import AdaBoostClassifier\n",
    "clf = AdaBoostClassifier(random_state = 100)\n",
    "\n",
    "# Train the supervised model on the training set using .fit(X_train, y_train)\n",
    "model = clf.fit(X_train, y_train)\n",
    "\n",
    "# Extract the feature importances using .feature_importances_ \n",
    "importances = clf.feature_importances_\n",
    "\n",
    "# Plot\n",
    "vs.feature_plot(importances, X_train, y_train)"
   ]
  },
  {
   "cell_type": "markdown",
   "metadata": {},
   "source": [
    "AdaBoostClassifier is a non-linear model, so I can only say that these are the key ingredients that the model looks for when determining the rating. I cannot say directly if the presence of an ingredient can have a linear relationship with the rating. However, from my experience and having tested several models, I can say:\n",
    "\n",
    "\n",
    "<font color='green'>1. **Tocopherol**: Presence of Tocopherol as an ingredient should generally have a positive relationship with the rating of the facial oil being greater than 4.5</font>\n",
    "\n",
    "<font color='green'>2. **Jojoba Oil**: Presence of Jojoba Oil as an ingredient should generally have a positive relationship with the rating of the facial oil being greater than 4.5</font>\n",
    "\n",
    "<font color='green'>3. **Evening Primrose Oil**: Presence of Evening Primrose Oil as an ingredient should generally have a positive relationship with the rating of the facial oil being greater than 4.5</font>\n",
    "\n",
    "<font color='green'>4. **Argan Oil**: Presence of Argan Oil as an ingredient should generally have a positive relationship with the rating of the facial oil being greater than 4.5</font>\n",
    "\n",
    "<font color='green'>5. **Rosehip Oil**: Presence of Rosehip Oil as an ingredient should generally have a positive relationship with the rating of the facial oil being greater than 4.5</font>\n",
    "\n",
    "<font color='green'>6. **Linalool**: Presence of Linalool as an ingredient should generally have a positive relationship with the rating of the facial oil being greater than 4.5</font>\n",
    "\n",
    "<font color='green'>7. **Olive Oil**: Presence of Olive Oil as an ingredient should generally have a positive relationship with the rating of the facial oil being greater than 4.5</font>\n",
    "\n",
    "<font color='red'>8. **Lavandin Oil**: Presence of Lavandin Oil as an ingredient should generally have a negative relationship with the rating of the facial oil being greater than 4.5</font>\n",
    "\n",
    "<font color='green'>9. **Marula Oil**: Presence of Marula Oil as an ingredient should generally have a positive relationship with the rating of the facial oil being greater than 4.5</font>\n",
    "\n",
    "<font color='green'>10. **Citral**: Presence of Citral as an ingredient should generally have a positive relationship with the rating of the facial oil being greater than 4.5</font>"
   ]
  },
  {
   "attachments": {
    "image.png": {
     "image/png": "[encoded data removed]"
    }
   },
   "cell_type": "markdown",
   "metadata": {},
   "source": [
    "<a id='conclusion'></a>\n",
    "## Conclusion\n",
    "\n",
    "I answered the following questions about this dataset:\n",
    "1. How do you decide if a new facial oil is a high-rated product?\n",
    "\n",
    "> I built a model that that takes in ingredients of the facial oil as input and outputs if the product could have a rating > 4.5/5.0. \n",
    "Due to over-the-top marketing campaigns, consumers are led to believe that most products have a high rating. However, I have proven that there is a data-driven alternative to falling into that trap: Given the ingredients of any facial oil (old or new to the market), my predictive model is a much more accurate indicator of whether or not that product is actually worthy of such high ratings and praise. \n",
    "\n",
    "|     Metric     | Naive Predictor   | My Model          |\n",
    "| :------------: | :---------------: | :---------------: | \n",
    "| Accuracy Score |      0.4051       |       0.5555      |\n",
    "| F-score        |      0.4598       |       0.5140      |\n",
    "\n",
    "\n",
    "I built my model using the 356 different ingredients found in these 79 facial oils. I actually started with a total of 1037 ingredients, and, leveraging my expertise in skincare ingredients/chemistry, I was able to compress the total number of ingredients to 356. Because I succeeded in reducing the number of ingredients, I was able to increase the predictive power of the model.\n",
    "As a skincare consumer, if you are driven by marketing schemes to accept any facial oil as a high-rated product, you will be correct 40% of the time. If you use my predictive model, you will be correct 55% of the time.\n",
    "\n",
    "\n",
    "\n",
    "2. Which ingredients help determine if the product is highly rated?\n",
    "The feature importance attribute of the model showed me the game-changing ingredients that could lead to a high rating.\n",
    "\n",
    "> These ingredients are the key features that determine if a facial oil could have a high rating:\n",
    "\n",
    "- Tocopherol\n",
    "- Jojoba Oil\n",
    "- Evening Primrose Oil\n",
    "- Argan Oil\n",
    "- Rosehip Oil\n",
    "- Linalool\n",
    "- Olive Oil\n",
    "- Lavandin Oil\n",
    "- Marula Oil\n",
    "- Citral\n",
    "\n",
    "Lavandin Oil is an exception among this group of game-changing oils - it can be a strong indicator of lower ratings (<= 4.5), whereas the others can be a strong indicator of higher ratings (> 4.5).\n",
    "\n",
    "![image.png](attachment:image.png)"
   ]
  },
  {
   "cell_type": "code",
   "execution_count": null,
   "metadata": {},
   "outputs": [],
   "source": []
  }
 ],
 "metadata": {
  "kernelspec": {
   "display_name": "Python 3",
   "language": "python",
   "name": "python3"
  },
  "language_info": {
   "codemirror_mode": {
    "name": "ipython",
    "version": 3
   },
   "file_extension": ".py",
   "mimetype": "text/x-python",
   "name": "python",
   "nbconvert_exporter": "python",
   "pygments_lexer": "ipython3",
   "version": "3.6.5"
  }
 },
 "nbformat": 4,
 "nbformat_minor": 1
}
